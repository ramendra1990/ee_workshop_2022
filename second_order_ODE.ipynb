{
  "nbformat": 4,
  "nbformat_minor": 0,
  "metadata": {
    "colab": {
      "name": "second_order_ODE.ipynb",
      "provenance": [],
      "authorship_tag": "ABX9TyPePMSs3v+kwezTLdK3ZGRJ",
      "include_colab_link": true
    },
    "kernelspec": {
      "name": "python3",
      "display_name": "Python 3"
    },
    "language_info": {
      "name": "python"
    }
  },
  "cells": [
    {
      "cell_type": "markdown",
      "metadata": {
        "id": "view-in-github",
        "colab_type": "text"
      },
      "source": [
        "<a href=\"https://colab.research.google.com/github/ramendra1990/ee_workshop_2022/blob/main/second_order_ODE.ipynb\" target=\"_parent\"><img src=\"https://colab.research.google.com/assets/colab-badge.svg\" alt=\"Open In Colab\"/></a>"
      ]
    },
    {
      "cell_type": "markdown",
      "source": [
        ""
      ],
      "metadata": {
        "id": "ZFLOGfvG-FIf"
      }
    },
    {
      "cell_type": "markdown",
      "source": [
        "$$\n",
        "\\frac{d^{2}y}{dx^2}=D\\frac{dy}{dx}\n",
        "$$\n",
        "Solve this equation for D = 0.02, y[x = 0] = 5, y[x = N - 1] = 0, x 𝟄 [0, N)\\\n",
        "where N = len(x)"
      ],
      "metadata": {
        "id": "FRNbaSG0-OjV"
      }
    },
    {
      "cell_type": "code",
      "source": [
        "# Define variables\n",
        "import numpy as np\n",
        "D = 0.2\n",
        "x = np.linspace(0, 5, 10)\n",
        "y = np.zeros(x.shape)\n",
        "y[0] = 5\n",
        "dx = x[1] - x[0]\n",
        "N = len(x)"
      ],
      "metadata": {
        "id": "Qf1ehHW7AF_m"
      },
      "execution_count": 229,
      "outputs": []
    },
    {
      "cell_type": "code",
      "source": [
        "dx"
      ],
      "metadata": {
        "colab": {
          "base_uri": "https://localhost:8080/"
        },
        "id": "bNkEtjC7AYtW",
        "outputId": "1225a40b-de48-4d67-9299-1e91a81c495a"
      },
      "execution_count": 230,
      "outputs": [
        {
          "output_type": "execute_result",
          "data": {
            "text/plain": [
              "0.5555555555555556"
            ]
          },
          "metadata": {},
          "execution_count": 230
        }
      ]
    },
    {
      "cell_type": "markdown",
      "source": [
        "## Method 1\n",
        "### Iterative method\n",
        "The equation is dictretized into following form\\\n",
        "$$\n",
        "y^{i}=\\frac{1}{2}[(1-r)y^{i+1}+(1+r)y^{i-1}]\n",
        "$$\n",
        "$$\n",
        "r=\\frac{D\\Delta x}{2}\n",
        "$$"
      ],
      "metadata": {
        "id": "Lc5aP3SFBEol"
      }
    },
    {
      "cell_type": "code",
      "source": [
        "r = 0.5 * D * dx\n",
        "for i in range(1000):\n",
        "  y[1 : N - 1] = 0.5 * ((1-r) * y[2 : N] + (1 + r) * y[0 : N - 2])"
      ],
      "metadata": {
        "id": "BRuZcriaBjDq"
      },
      "execution_count": 231,
      "outputs": []
    },
    {
      "cell_type": "code",
      "source": [
        "import matplotlib.pyplot as plt\n",
        "plt.plot(x, y)"
      ],
      "metadata": {
        "colab": {
          "base_uri": "https://localhost:8080/",
          "height": 282
        },
        "id": "UsmLjBQECSJ_",
        "outputId": "49db6dc7-7a20-4fb5-db00-54fddb342053"
      },
      "execution_count": 232,
      "outputs": [
        {
          "output_type": "execute_result",
          "data": {
            "text/plain": [
              "[<matplotlib.lines.Line2D at 0x7fcf2766a590>]"
            ]
          },
          "metadata": {},
          "execution_count": 232
        },
        {
          "output_type": "display_data",
          "data": {
            "text/plain": [
              "<Figure size 432x288 with 1 Axes>"
            ],
            "image/png": "[encoded data removed]"
          },
          "metadata": {
            "needs_background": "light"
          }
        }
      ]
    },
    {
      "cell_type": "code",
      "source": [
        "print(y)"
      ],
      "metadata": {
        "colab": {
          "base_uri": "https://localhost:8080/"
        },
        "id": "lULOc1b9CWtW",
        "outputId": "f67e63f1-db9f-40df-f1c7-1632d7bfea5f"
      },
      "execution_count": 233,
      "outputs": [
        {
          "output_type": "stream",
          "name": "stdout",
          "text": [
            "[5.         4.65821835 4.27622709 3.84929568 3.37213705 2.8388421\n",
            " 2.24280658 1.57664923 0.83212043 0.        ]\n"
          ]
        }
      ]
    },
    {
      "cell_type": "markdown",
      "source": [
        "## Method 2\n",
        "### Using linear algebra\n",
        "The set of algebrain equations take the following form\n",
        "$$\n",
        "\\left(\\begin{array}{cc}\n",
        "-2 & 1-r & 0 & \\dots & 0 & 0 \\\\ \n",
        "1+r & -2 & 1-r & \\dots & 0 & 0 \\\\\n",
        "\\vdots & \\ddots & \\vdots & \\vdots & \\vdots & \\vdots\\\\ \n",
        "\\vdots &  & \\ddots & \\\\ \n",
        "0 & 0 & \\dots & \\dots & 1+r & -2 \n",
        "\\end{array}\\right)\n",
        "\\left(\\begin{array}{cc} \n",
        "y^1\\\\ \n",
        "y^2\\\\\n",
        "\\vdots\\\\\n",
        "\\vdots\\\\\n",
        "y^{N-2}\n",
        "\\end{array}\\right)=\n",
        "\\left(\\begin{array}{cc} \n",
        "-(1+r)y^0\\\\ \n",
        "\\vdots\\\\\n",
        "\\vdots\\\\\n",
        "\\vdots\\\\\n",
        "-(1-r)y^{N-1}\n",
        "\\end{array}\\right)\n",
        "$$\n",
        "\\\n",
        "where, $N = len(y)$.\n",
        "Same matrix operation can also be written as\n",
        "$AY=B$ and $Y=A^{-1}B$"
      ],
      "metadata": {
        "id": "dh1P0e9SnoK7"
      }
    },
    {
      "cell_type": "code",
      "source": [
        "# Using linear algebra\n",
        "r = 0.5 * D * dx\n",
        "y1 = np.zeros(x.shape)\n",
        "y1[0] = 5\n",
        "B = np.zeros((len(x) - 2, 1))\n",
        "B[0] = -1 * (1 + r) * y1[0]\n",
        "B[-1] = -1 * (1 - r) * y1[-1]\n"
      ],
      "metadata": {
        "id": "jMzO-DtxCb0t"
      },
      "execution_count": 234,
      "outputs": []
    },
    {
      "cell_type": "code",
      "source": [
        "# Prepare the tri-diagonal matrix\n",
        "mdiag = -2 * np.ones((len(x)- 2,))\n",
        "ldiag = (1 + r) * np.ones((len(x)- 3,))\n",
        "udiag = (1 - r) * np.ones((len(x)- 3,))\n",
        "A = np.diag(mdiag, 0) + np.diag(udiag, 1) + np.diag(ldiag, -1)"
      ],
      "metadata": {
        "id": "zqaIMJXHHvZW"
      },
      "execution_count": 235,
      "outputs": []
    },
    {
      "cell_type": "code",
      "source": [
        "y1 = y1.reshape((len(x), 1))\n",
        "y1[1 : N - 1] = np.dot(np.linalg.inv(A), B)"
      ],
      "metadata": {
        "id": "w6dG1i9lIiaK"
      },
      "execution_count": 236,
      "outputs": []
    },
    {
      "cell_type": "code",
      "source": [
        "plt.plot(x, y1, 'r', label = 'y_Matrix_inversion')\n",
        "plt.plot(x, y, 'b', label = 'y_iterative')"
      ],
      "metadata": {
        "colab": {
          "base_uri": "https://localhost:8080/",
          "height": 282
        },
        "id": "2H0mUgdaeN0h",
        "outputId": "74bdaa7c-5867-4587-e06d-75b2ffb48623"
      },
      "execution_count": 237,
      "outputs": [
        {
          "output_type": "execute_result",
          "data": {
            "text/plain": [
              "[<matplotlib.lines.Line2D at 0x7fcf275e1550>]"
            ]
          },
          "metadata": {},
          "execution_count": 237
        },
        {
          "output_type": "display_data",
          "data": {
            "text/plain": [
              "<Figure size 432x288 with 1 Axes>"
            ],
            "image/png": "[encoded data removed]"
          },
          "metadata": {
            "needs_background": "light"
          }
        }
      ]
    },
    {
      "cell_type": "markdown",
      "source": [
        "## <font color = 'red'>Exercise\n",
        "Solve the same equation for D = 0.02, y[x = 0] = 5, $\\frac{dy}{dx}[x = N - 1] = 0$, x 𝟄 [0, N)\\\n",
        "where N = len(x)"
      ],
      "metadata": {
        "id": "YRFG6T2lvea6"
      }
    }
  ]
}