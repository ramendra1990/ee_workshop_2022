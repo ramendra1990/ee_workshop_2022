{
 "cells": [
  {
   "cell_type": "markdown",
   "id": "19f79561",
   "metadata": {},
   "source": [
    "### <font color='blue'>Python</font>\n",
    "* Python is a popular programming language, used for system scripting, software development, web development etc\n",
    "* Python works on different platforms (Windows, Mac, Linux, Raspberry Pi, etc).\n",
    "* Python has a simple syntax similar to the English language.\n",
    "* Python runs on an interpreter system, meaning that code can be executed as soon as it is written.\n",
    "\n",
    "#### Compared to other programming laguages\n",
    "* Python was designed for readability, and has some similarities to the English language with influence from mathematics.\n",
    "* Python relies on indentation, using whitespace, to define scope; such as the scope of loops, functions and classes.\n",
    "\n",
    "---------\n",
    "* The most recent major version of Python is __*Python 3*__\n",
    "* In this tutorial Python will be written in a text editor. It is possible to write Python in an Integrated Development Environment, such as Pycharm, Eclipse or Spyder which are particularly useful when managing larger collections of Python files.\n",
    "\n",
    "----------\n",
    "* __Jupyter notebook__\n",
    "\n",
    "------\n",
    "\n",
    "__Basic__\n",
    "   * Variables\n",
    "   * Loops(For, While)\n",
    "   * Conditional(If, else, elseif)\n",
    "   * Matrices (Array) and matrix operation \n",
    "   \n",
    "__Advanced__\n",
    "   * Visualization\n",
    "   * Functions\n",
    "   * Fit a function to some data\n",
    "   * Solve a simple ODE\n",
    "   * Read, manipulate and write a matrix to local drive\n"
   ]
  },
  {
   "cell_type": "code",
   "execution_count": null,
   "id": "13683496",
   "metadata": {},
   "outputs": [],
   "source": [
    "# Variable\n",
    "x = 1"
   ]
  },
  {
   "cell_type": "code",
   "execution_count": null,
   "id": "deb22da2",
   "metadata": {},
   "outputs": [],
   "source": [
    "x"
   ]
  },
  {
   "cell_type": "code",
   "execution_count": null,
   "id": "69e80ac9",
   "metadata": {},
   "outputs": [],
   "source": [
    "import sys\n",
    "sys.getsizeof(x)"
   ]
  },
  {
   "cell_type": "code",
   "execution_count": null,
   "id": "ad708dd3",
   "metadata": {},
   "outputs": [],
   "source": [
    "from decimal import Decimal\n",
    "sys.getsizeof(Decimal(x))"
   ]
  },
  {
   "cell_type": "code",
   "execution_count": null,
   "id": "54312433",
   "metadata": {},
   "outputs": [],
   "source": [
    "sys.getsizeof('')"
   ]
  },
  {
   "cell_type": "code",
   "execution_count": null,
   "id": "a242ada5",
   "metadata": {},
   "outputs": [],
   "source": [
    "sys.getsizeof('12' + '3')"
   ]
  },
  {
   "cell_type": "code",
   "execution_count": null,
   "id": "c71e5bd0",
   "metadata": {},
   "outputs": [],
   "source": [
    "# Data Structure\n",
    "list1 = []"
   ]
  },
  {
   "cell_type": "code",
   "execution_count": null,
   "id": "38ed0071",
   "metadata": {},
   "outputs": [],
   "source": [
    "sys.getsizeof(list1)"
   ]
  },
  {
   "cell_type": "code",
   "execution_count": null,
   "id": "c4acad18",
   "metadata": {},
   "outputs": [],
   "source": [
    "sys.getsizeof(['a long longlong string'])"
   ]
  },
  {
   "cell_type": "code",
   "execution_count": null,
   "id": "f9e9a608",
   "metadata": {},
   "outputs": [],
   "source": [
    "sys.getsizeof(())"
   ]
  },
  {
   "cell_type": "code",
   "execution_count": null,
   "id": "fe310aca",
   "metadata": {},
   "outputs": [],
   "source": [
    "sys.getsizeof(set())"
   ]
  },
  {
   "cell_type": "code",
   "execution_count": null,
   "id": "1f36af03",
   "metadata": {},
   "outputs": [],
   "source": [
    "sys.getsizeof({})"
   ]
  },
  {
   "cell_type": "code",
   "execution_count": null,
   "id": "731bdae1",
   "metadata": {},
   "outputs": [],
   "source": [
    "import numpy as np\n",
    "sys.getsizeof(np.array([]))"
   ]
  },
  {
   "cell_type": "code",
   "execution_count": null,
   "id": "c8d94003",
   "metadata": {},
   "outputs": [],
   "source": [
    "type(2)"
   ]
  },
  {
   "cell_type": "code",
   "execution_count": null,
   "id": "5dfb68be",
   "metadata": {},
   "outputs": [],
   "source": [
    "# Simple algebra\n",
    "x1 = 2\n",
    "x2 = 2\n",
    "print(x1+x2)"
   ]
  },
  {
   "cell_type": "code",
   "execution_count": null,
   "id": "deea7027",
   "metadata": {},
   "outputs": [],
   "source": [
    "# For loop\n"
   ]
  },
  {
   "cell_type": "code",
   "execution_count": null,
   "id": "8d040b64",
   "metadata": {},
   "outputs": [],
   "source": [
    "# If loop"
   ]
  },
  {
   "cell_type": "code",
   "execution_count": null,
   "id": "473aaab0",
   "metadata": {},
   "outputs": [],
   "source": [
    "# While loop"
   ]
  },
  {
   "cell_type": "code",
   "execution_count": null,
   "id": "63e3fa4b",
   "metadata": {},
   "outputs": [],
   "source": [
    "# Basic array operation"
   ]
  },
  {
   "cell_type": "code",
   "execution_count": null,
   "id": "3d781f59",
   "metadata": {},
   "outputs": [],
   "source": [
    "# Visualtion using matplotlib library\n",
    "import matplotlib.pyplot as plt"
   ]
  },
  {
   "cell_type": "code",
   "execution_count": null,
   "id": "8bfa0214",
   "metadata": {},
   "outputs": [],
   "source": [
    "# Define a python function\n",
    "def func(x, a, b, c):\n",
    "    return a * np.exp(-b * x) + c\n",
    "\n",
    "xdata = np.linspace(0, 4, 500)\n",
    "y = func(xdata, 2.5, 1.3, 0.5)\n",
    "y_noise = 0.2 * np.random.randn(xdata.size)\n",
    "ydata = y + y_noise\n",
    "plt.plot(xdata, ydata, 'b-', label='data')"
   ]
  },
  {
   "cell_type": "code",
   "execution_count": null,
   "id": "f84a4a3a",
   "metadata": {},
   "outputs": [],
   "source": [
    "plt.hist(y_noise)"
   ]
  },
  {
   "cell_type": "code",
   "execution_count": null,
   "id": "96eabf05",
   "metadata": {},
   "outputs": [],
   "source": [
    "# Fit the function to data (with some gaussian error)\n",
    "from scipy.optimize import curve_fit\n",
    "popt1, pcov1 = curve_fit(func, xdata, ydata)"
   ]
  },
  {
   "cell_type": "code",
   "execution_count": null,
   "id": "a3c9769d",
   "metadata": {},
   "outputs": [],
   "source": [
    "popt1"
   ]
  },
  {
   "cell_type": "code",
   "execution_count": null,
   "id": "250c742c",
   "metadata": {},
   "outputs": [],
   "source": [
    "pcov1"
   ]
  },
  {
   "cell_type": "code",
   "execution_count": null,
   "id": "c21a2f50",
   "metadata": {},
   "outputs": [],
   "source": [
    "print(np.diag(pcov1))"
   ]
  },
  {
   "cell_type": "code",
   "execution_count": null,
   "id": "43c68199",
   "metadata": {},
   "outputs": [],
   "source": [
    "popt2, pcov2 = curve_fit(func, xdata, ydata, bounds=(0, [3., 1., 2.5]))"
   ]
  },
  {
   "cell_type": "code",
   "execution_count": null,
   "id": "86e85433",
   "metadata": {},
   "outputs": [],
   "source": [
    "popt2"
   ]
  },
  {
   "cell_type": "code",
   "execution_count": null,
   "id": "abd7609a",
   "metadata": {},
   "outputs": [],
   "source": [
    "plt.plot(xdata, func(xdata, *popt1), 'r-',\n",
    "         label='fit: a=%5.3f, b=%5.3f, c=%5.3f' % tuple(popt1))\n",
    "\n",
    "plt.plot(xdata, func(xdata, *popt2), 'g--',\n",
    "         label='fit: a=%5.3f, b=%5.3f, c=%5.3f' % tuple(popt2))\n",
    "\n",
    "plt.xlabel('x')\n",
    "plt.ylabel('y')\n",
    "plt.legend()\n"
   ]
  },
  {
   "cell_type": "code",
   "execution_count": null,
   "id": "73799cce",
   "metadata": {},
   "outputs": [],
   "source": [
    "# Solve a first order ODE (using ODEint library)"
   ]
  },
  {
   "cell_type": "markdown",
   "id": "f8b906b8",
   "metadata": {},
   "source": [
    "```y = odeint(model, y0, t)```\n",
    "> y0 = initial condition, t = time points at which the solution should be reported \n",
    "\n",
    "-----\n",
    "$$\n",
    "  \\frac{dy(t)}{dt} = -ky(t)\n",
    "$$"
   ]
  },
  {
   "cell_type": "code",
   "execution_count": null,
   "id": "035a661c",
   "metadata": {},
   "outputs": [],
   "source": [
    "from scipy.integrate import odeint\n",
    "# function that returns dy/dt\n",
    "def model(y,t):\n",
    "    k = 0.3\n",
    "    dydt = -k * y\n",
    "    return dydt\n",
    "\n",
    "# initial condition\n",
    "y0 = 5\n",
    "\n",
    "# time points\n",
    "t = np.linspace(0, 20, 100)\n",
    "\n",
    "# solve ODE\n",
    "y = odeint(model, y0, t)\n",
    "\n",
    "# Visualize\n",
    "plt.plot(t,y)\n",
    "plt.xlabel('time')\n",
    "plt.ylabel('y(t)')"
   ]
  },
  {
   "cell_type": "code",
   "execution_count": null,
   "id": "de11de57",
   "metadata": {},
   "outputs": [],
   "source": [
    "# read and write data (using pandas library)"
   ]
  }
 ],
 "metadata": {
  "kernelspec": {
   "display_name": "Python 3 (ipykernel)",
   "language": "python",
   "name": "python3"
  },
  "language_info": {
   "codemirror_mode": {
    "name": "ipython",
    "version": 3
   },
   "file_extension": ".py",
   "mimetype": "text/x-python",
   "name": "python",
   "nbconvert_exporter": "python",
   "pygments_lexer": "ipython3",
   "version": "3.8.12"
  }
 },
 "nbformat": 4,
 "nbformat_minor": 5
}
