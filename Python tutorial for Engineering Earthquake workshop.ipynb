{
 "cells": [
  {
   "cell_type": "markdown",
   "id": "19f79561",
   "metadata": {},
   "source": [
    "### <font color='blue'>Python</font>\n",
    "* Python is a popular programming language, used for system scripting, software development, web development etc\n",
    "* Python works on different platforms (Windows, Mac, Linux, Raspberry Pi, etc).\n",
    "* Python has a simple syntax similar to the English language.\n",
    "* Python runs on an interpreter system, meaning that code can be executed as soon as it is written.\n",
    "\n",
    "#### Compared to other programming laguages\n",
    "* Python was designed for readability, and has some similarities to the English language with influence from mathematics.\n",
    "* Python relies on indentation, using whitespace, to define scope; such as the scope of loops, functions and classes.\n",
    "\n",
    "---------\n",
    "* The most recent major version of Python is __*Python 3*__\n",
    "* In this tutorial Python will be written in a text editor. It is possible to write Python in an Integrated Development Environment, such as Pycharm, Eclipse or Spyder which are particularly useful when managing larger collections of Python files.\n",
    "\n",
    "----------\n",
    "* __Jupyter notebook__\n",
    "\n",
    "------\n",
    "\n",
    "__Basic__\n",
    "   * Variables\n",
    "   * Loops(For, While)\n",
    "   * Conditional(If, else, elseif)\n",
    "   * Matrices (Array) and matrix operation \n",
    "   \n",
    "__Advanced__\n",
    "   * Visualization\n",
    "   * Functions\n",
    "   * Fit a function to some data\n",
    "   * Solve a simple ODE\n",
    "   * Read, manipulate and write a matrix to local drive\n"
   ]
  },
  {
   "cell_type": "code",
   "execution_count": 3,
   "id": "13683496",
   "metadata": {},
   "outputs": [],
   "source": [
    "# Variable\n",
    "x = 1"
   ]
  },
  {
   "cell_type": "code",
   "execution_count": 4,
   "id": "deb22da2",
   "metadata": {},
   "outputs": [
    {
     "data": {
      "text/plain": [
       "1"
      ]
     },
     "execution_count": 4,
     "metadata": {},
     "output_type": "execute_result"
    }
   ],
   "source": [
    "x"
   ]
  },
  {
   "cell_type": "code",
   "execution_count": 5,
   "id": "69e80ac9",
   "metadata": {},
   "outputs": [
    {
     "data": {
      "text/plain": [
       "28"
      ]
     },
     "execution_count": 5,
     "metadata": {},
     "output_type": "execute_result"
    }
   ],
   "source": [
    "import sys\n",
    "sys.getsizeof(x)"
   ]
  },
  {
   "cell_type": "code",
   "execution_count": 6,
   "id": "ad708dd3",
   "metadata": {},
   "outputs": [
    {
     "data": {
      "text/plain": [
       "104"
      ]
     },
     "execution_count": 6,
     "metadata": {},
     "output_type": "execute_result"
    }
   ],
   "source": [
    "from decimal import Decimal\n",
    "sys.getsizeof(Decimal(x))"
   ]
  },
  {
   "cell_type": "code",
   "execution_count": 7,
   "id": "54312433",
   "metadata": {},
   "outputs": [
    {
     "data": {
      "text/plain": [
       "51"
      ]
     },
     "execution_count": 7,
     "metadata": {},
     "output_type": "execute_result"
    }
   ],
   "source": [
    "sys.getsizeof('')"
   ]
  },
  {
   "cell_type": "code",
   "execution_count": 8,
   "id": "a242ada5",
   "metadata": {},
   "outputs": [
    {
     "data": {
      "text/plain": [
       "52"
      ]
     },
     "execution_count": 8,
     "metadata": {},
     "output_type": "execute_result"
    }
   ],
   "source": [
    "sys.getsizeof('12' + '3')"
   ]
  },
  {
   "cell_type": "code",
   "execution_count": 9,
   "id": "c71e5bd0",
   "metadata": {},
   "outputs": [],
   "source": [
    "# Data Structure\n",
    "list1 = []"
   ]
  },
  {
   "cell_type": "code",
   "execution_count": 10,
   "id": "38ed0071",
   "metadata": {},
   "outputs": [
    {
     "data": {
      "text/plain": [
       "56"
      ]
     },
     "execution_count": 10,
     "metadata": {},
     "output_type": "execute_result"
    }
   ],
   "source": [
    "sys.getsizeof(list1)"
   ]
  },
  {
   "cell_type": "code",
   "execution_count": 11,
   "id": "c4acad18",
   "metadata": {},
   "outputs": [
    {
     "data": {
      "text/plain": [
       "64"
      ]
     },
     "execution_count": 11,
     "metadata": {},
     "output_type": "execute_result"
    }
   ],
   "source": [
    "sys.getsizeof(['a long longlong string'])"
   ]
  },
  {
   "cell_type": "code",
   "execution_count": 12,
   "id": "f9e9a608",
   "metadata": {},
   "outputs": [
    {
     "data": {
      "text/plain": [
       "40"
      ]
     },
     "execution_count": 12,
     "metadata": {},
     "output_type": "execute_result"
    }
   ],
   "source": [
    "sys.getsizeof(())"
   ]
  },
  {
   "cell_type": "code",
   "execution_count": 13,
   "id": "fe310aca",
   "metadata": {},
   "outputs": [
    {
     "data": {
      "text/plain": [
       "216"
      ]
     },
     "execution_count": 13,
     "metadata": {},
     "output_type": "execute_result"
    }
   ],
   "source": [
    "sys.getsizeof(set())"
   ]
  },
  {
   "cell_type": "code",
   "execution_count": 14,
   "id": "1f36af03",
   "metadata": {},
   "outputs": [
    {
     "data": {
      "text/plain": [
       "64"
      ]
     },
     "execution_count": 14,
     "metadata": {},
     "output_type": "execute_result"
    }
   ],
   "source": [
    "sys.getsizeof({})"
   ]
  },
  {
   "cell_type": "code",
   "execution_count": 15,
   "id": "731bdae1",
   "metadata": {},
   "outputs": [
    {
     "data": {
      "text/plain": [
       "104"
      ]
     },
     "execution_count": 15,
     "metadata": {},
     "output_type": "execute_result"
    }
   ],
   "source": [
    "import numpy as np\n",
    "sys.getsizeof(np.array([]))"
   ]
  },
  {
   "cell_type": "code",
   "execution_count": 16,
   "id": "c8d94003",
   "metadata": {},
   "outputs": [
    {
     "data": {
      "text/plain": [
       "int"
      ]
     },
     "execution_count": 16,
     "metadata": {},
     "output_type": "execute_result"
    }
   ],
   "source": [
    "type(2)"
   ]
  },
  {
   "cell_type": "code",
   "execution_count": 17,
   "id": "5dfb68be",
   "metadata": {},
   "outputs": [
    {
     "name": "stdout",
     "output_type": "stream",
     "text": [
      "4\n"
     ]
    }
   ],
   "source": [
    "# Simple algebra\n",
    "x1 = 2\n",
    "x2 = 2\n",
    "print(x1+x2)"
   ]
  },
  {
   "cell_type": "code",
   "execution_count": 18,
   "id": "deea7027",
   "metadata": {},
   "outputs": [],
   "source": [
    "# For loop\n"
   ]
  },
  {
   "cell_type": "code",
   "execution_count": 19,
   "id": "8d040b64",
   "metadata": {},
   "outputs": [],
   "source": [
    "# If loop"
   ]
  },
  {
   "cell_type": "code",
   "execution_count": 20,
   "id": "473aaab0",
   "metadata": {},
   "outputs": [],
   "source": [
    "# While loop"
   ]
  },
  {
   "cell_type": "code",
   "execution_count": 21,
   "id": "63e3fa4b",
   "metadata": {},
   "outputs": [],
   "source": [
    "# Basic array operation"
   ]
  },
  {
   "cell_type": "code",
   "execution_count": 22,
   "id": "3d781f59",
   "metadata": {},
   "outputs": [],
   "source": [
    "# Visualtion using matplotlib library\n",
    "import matplotlib.pyplot as plt"
   ]
  },
  {
   "cell_type": "code",
   "execution_count": 23,
   "id": "8bfa0214",
   "metadata": {},
   "outputs": [
    {
     "data": {
      "text/plain": [
       "[<matplotlib.lines.Line2D at 0x1b6c4ae9f10>]"
      ]
     },
     "execution_count": 23,
     "metadata": {},
     "output_type": "execute_result"
    },
    {
     "data": {
      "image/png": "[encoded data removed]",
      "text/plain": [
       "<Figure size 432x288 with 1 Axes>"
      ]
     },
     "metadata": {
      "needs_background": "light"
     },
     "output_type": "display_data"
    }
   ],
   "source": [
    "# Define a python function\n",
    "def func(x, a, b, c):\n",
    "    return a * np.exp(-b * x) + c\n",
    "\n",
    "xdata = np.linspace(0, 4, 500)\n",
    "y = func(xdata, 2.5, 1.3, 0.5)\n",
    "y_noise = 0.2 * np.random.randn(xdata.size)\n",
    "ydata = y + y_noise\n",
    "plt.plot(xdata, ydata, 'b-', label='data')"
   ]
  },
  {
   "cell_type": "code",
   "execution_count": 24,
   "id": "f84a4a3a",
   "metadata": {},
   "outputs": [
    {
     "data": {
      "text/plain": [
       "(array([  3.,  15.,  36.,  68., 105., 117.,  82.,  53.,  15.,   6.]),\n",
       " array([-0.57540787, -0.46237267, -0.34933748, -0.23630228, -0.12326709,\n",
       "        -0.01023189,  0.1028033 ,  0.2158385 ,  0.32887369,  0.44190889,\n",
       "         0.55494408]),\n",
       " <BarContainer object of 10 artists>)"
      ]
     },
     "execution_count": 24,
     "metadata": {},
     "output_type": "execute_result"
    },
    {
     "data": {
      "image/png": "[encoded data removed]",
      "text/plain": [
       "<Figure size 432x288 with 1 Axes>"
      ]
     },
     "metadata": {
      "needs_background": "light"
     },
     "output_type": "display_data"
    }
   ],
   "source": [
    "plt.hist(y_noise)"
   ]
  },
  {
   "cell_type": "code",
   "execution_count": 25,
   "id": "96eabf05",
   "metadata": {},
   "outputs": [],
   "source": [
    "# Fit the function to data (with some gaussian error)\n",
    "from scipy.optimize import curve_fit\n",
    "popt1, pcov1 = curve_fit(func, xdata, ydata)"
   ]
  },
  {
   "cell_type": "code",
   "execution_count": 26,
   "id": "a3c9769d",
   "metadata": {},
   "outputs": [
    {
     "data": {
      "text/plain": [
       "array([2.48170983, 1.27758173, 0.50531801])"
      ]
     },
     "execution_count": 26,
     "metadata": {},
     "output_type": "execute_result"
    }
   ],
   "source": [
    "popt1"
   ]
  },
  {
   "cell_type": "code",
   "execution_count": 27,
   "id": "250c742c",
   "metadata": {},
   "outputs": [
    {
     "data": {
      "text/plain": [
       "array([[ 1.48955232e-03,  6.96217660e-04, -3.62277519e-05],\n",
       "       [ 6.96217660e-04,  1.79492576e-03,  5.20060526e-04],\n",
       "       [-3.62277519e-05,  5.20060526e-04,  2.70980095e-04]])"
      ]
     },
     "execution_count": 27,
     "metadata": {},
     "output_type": "execute_result"
    }
   ],
   "source": [
    "pcov1"
   ]
  },
  {
   "cell_type": "code",
   "execution_count": 28,
   "id": "c21a2f50",
   "metadata": {},
   "outputs": [
    {
     "name": "stdout",
     "output_type": "stream",
     "text": [
      "[0.00148955 0.00179493 0.00027098]\n"
     ]
    }
   ],
   "source": [
    "print(np.diag(pcov1))"
   ]
  },
  {
   "cell_type": "code",
   "execution_count": 29,
   "id": "43c68199",
   "metadata": {},
   "outputs": [],
   "source": [
    "popt2, pcov2 = curve_fit(func, xdata, ydata, bounds=(0, [3., 1., 2.5]))"
   ]
  },
  {
   "cell_type": "code",
   "execution_count": 30,
   "id": "86e85433",
   "metadata": {},
   "outputs": [
    {
     "data": {
      "text/plain": [
       "array([2.37994861, 1.        , 0.40420156])"
      ]
     },
     "execution_count": 30,
     "metadata": {},
     "output_type": "execute_result"
    }
   ],
   "source": [
    "popt2"
   ]
  },
  {
   "cell_type": "code",
   "execution_count": 31,
   "id": "abd7609a",
   "metadata": {},
   "outputs": [
    {
     "data": {
      "text/plain": [
       "<matplotlib.legend.Legend at 0x1b6c5ffb070>"
      ]
     },
     "execution_count": 31,
     "metadata": {},
     "output_type": "execute_result"
    },
    {
     "data": {
      "image/png": "[encoded data removed]",
      "text/plain": [
       "<Figure size 432x288 with 1 Axes>"
      ]
     },
     "metadata": {
      "needs_background": "light"
     },
     "output_type": "display_data"
    }
   ],
   "source": [
    "plt.plot(xdata, func(xdata, *popt1), 'r-',\n",
    "         label='fit: a=%5.3f, b=%5.3f, c=%5.3f' % tuple(popt1))\n",
    "\n",
    "plt.plot(xdata, func(xdata, *popt2), 'g--',\n",
    "         label='fit: a=%5.3f, b=%5.3f, c=%5.3f' % tuple(popt2))\n",
    "\n",
    "plt.xlabel('x')\n",
    "plt.ylabel('y')\n",
    "plt.legend()\n"
   ]
  },
  {
   "cell_type": "code",
   "execution_count": 32,
   "id": "73799cce",
   "metadata": {},
   "outputs": [],
   "source": [
    "# Solve a first order ODE (using ODEint library)"
   ]
  },
  {
   "cell_type": "markdown",
   "id": "f8b906b8",
   "metadata": {},
   "source": [
    "```y = odeint(model, y0, t)```\n",
    "> y0 = initial condition, t = time points at which the solution should be reported \n",
    "\n",
    "-----\n",
    "$$\n",
    "  \\frac{dy(t)}{dt} = -ky(t)\n",
    "$$"
   ]
  },
  {
   "cell_type": "code",
   "execution_count": 33,
   "id": "035a661c",
   "metadata": {},
   "outputs": [
    {
     "data": {
      "text/plain": [
       "Text(0, 0.5, 'y(t)')"
      ]
     },
     "execution_count": 33,
     "metadata": {},
     "output_type": "execute_result"
    },
    {
     "data": {
      "image/png": "[encoded data removed]",
      "text/plain": [
       "<Figure size 432x288 with 1 Axes>"
      ]
     },
     "metadata": {
      "needs_background": "light"
     },
     "output_type": "display_data"
    }
   ],
   "source": [
    "from scipy.integrate import odeint\n",
    "# function that returns dy/dt\n",
    "def model(y,t):\n",
    "    k = 0.3\n",
    "    dydt = -k * y\n",
    "    return dydt\n",
    "\n",
    "# initial condition\n",
    "y0 = 5\n",
    "\n",
    "# time points\n",
    "t = np.linspace(0, 20, 100)\n",
    "\n",
    "# solve ODE\n",
    "y = odeint(model, y0, t)\n",
    "\n",
    "# Visualize\n",
    "plt.plot(t,y)\n",
    "plt.xlabel('time')\n",
    "plt.ylabel('y(t)')"
   ]
  },
  {
   "cell_type": "code",
   "execution_count": 34,
   "id": "de11de57",
   "metadata": {},
   "outputs": [],
   "source": [
    "# read and write data (using pandas library)"
   ]
  },
  {
   "cell_type": "code",
   "execution_count": 38,
   "id": "6fa6f9f4",
   "metadata": {},
   "outputs": [
    {
     "name": "stdout",
     "output_type": "stream",
     "text": [
      "Python implementation: CPython\n",
      "Python version       : 3.8.12\n",
      "IPython version      : 7.31.1\n",
      "\n",
      "sys       : 3.8.12 (default, Oct 12 2021, 03:01:40) [MSC v.1916 64 bit (AMD64)]\n",
      "numpy     : 1.21.5\n",
      "scipy     : 1.7.3\n",
      "matplotlib: 3.5.0\n",
      "\n",
      "Compiler    : MSC v.1916 64 bit (AMD64)\n",
      "OS          : Windows\n",
      "Release     : 10\n",
      "Machine     : AMD64\n",
      "Processor   : Intel64 Family 6 Model 140 Stepping 1, GenuineIntel\n",
      "CPU cores   : 8\n",
      "Architecture: 64bit\n",
      "\n",
      "Last updated: Tue Jul 05 2022 09:39:51India Standard Time\n",
      "\n"
     ]
    }
   ],
   "source": [
    "%reload_ext watermark\n",
    "%watermark -v -m -p sys,numpy,scipy,matplotlib\n",
    "%watermark -u -n -t -z"
   ]
  },
  {
   "cell_type": "code",
   "execution_count": 36,
   "id": "60e8ead6",
   "metadata": {},
   "outputs": [
    {
     "ename": "ModuleNotFoundError",
     "evalue": "No module named 'session_info'",
     "output_type": "error",
     "traceback": [
      "\u001b[1;31m---------------------------------------------------------------------------\u001b[0m",
      "\u001b[1;31mModuleNotFoundError\u001b[0m                       Traceback (most recent call last)",
      "\u001b[1;32m~\\AppData\\Local\\Temp/ipykernel_14512/3877231208.py\u001b[0m in \u001b[0;36m<module>\u001b[1;34m\u001b[0m\n\u001b[1;32m----> 1\u001b[1;33m \u001b[1;32mimport\u001b[0m \u001b[0msession_info\u001b[0m\u001b[1;33m\u001b[0m\u001b[1;33m\u001b[0m\u001b[0m\n\u001b[0m\u001b[0;32m      2\u001b[0m \u001b[0msession_info\u001b[0m\u001b[1;33m.\u001b[0m\u001b[0mshow\u001b[0m\u001b[1;33m(\u001b[0m\u001b[1;33m)\u001b[0m\u001b[1;33m\u001b[0m\u001b[1;33m\u001b[0m\u001b[0m\n",
      "\u001b[1;31mModuleNotFoundError\u001b[0m: No module named 'session_info'"
     ]
    }
   ],
   "source": [
    "from custom\n",
    "import session_info\n",
    "session_info.show()"
   ]
  }
 ],
 "metadata": {
  "kernelspec": {
   "display_name": "Python 3 (ipykernel)",
   "language": "python",
   "name": "python3"
  },
  "language_info": {
   "codemirror_mode": {
    "name": "ipython",
    "version": 3
   },
   "file_extension": ".py",
   "mimetype": "text/x-python",
   "name": "python",
   "nbconvert_exporter": "python",
   "pygments_lexer": "ipython3",
   "version": "3.8.12"
  }
 },
 "nbformat": 4,
 "nbformat_minor": 5
}
