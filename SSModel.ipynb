{
  "nbformat": 4,
  "nbformat_minor": 0,
  "metadata": {
    "colab": {
      "name": "SSModel.ipynb",
      "provenance": [],
      "collapsed_sections": [],
      "authorship_tag": "ABX9TyNPIh9ZQulQjOvRNDUxWV9U",
      "include_colab_link": true
    },
    "kernelspec": {
      "name": "python3",
      "display_name": "Python 3"
    },
    "language_info": {
      "name": "python"
    }
  },
  "cells": [
    {
      "cell_type": "markdown",
      "metadata": {
        "id": "view-in-github",
        "colab_type": "text"
      },
      "source": [
        "<a href=\"https://colab.research.google.com/github/ramendra1990/ee_workshop_2022/blob/main/SSModel.ipynb\" target=\"_parent\"><img src=\"https://colab.research.google.com/assets/colab-badge.svg\" alt=\"Open In Colab\"/></a>"
      ]
    },
    {
      "cell_type": "markdown",
      "source": [
        "## Scenario 1\n",
        "_Force balance_\n",
        "$$\\delta (t)=(\\delta_{ini}-F)cos(wt)+\\frac{V_{ini}}{w}sin(wt)+F$$\n",
        "$$V=\\frac{d\\delta}{dt}$$\n",
        "_Velocity dependence of friction_\n",
        "$$\\mu = \\mu_0+alog\\frac{V}{V_0}$$\n",
        "\\\n",
        "where, $F=\\delta_{lp}-\\frac{\\mu\\sigma}{K}$ and $w=\\sqrt{\\frac{K}{M}}$"
      ],
      "metadata": {
        "id": "wzK5BwgW8ocd"
      }
    },
    {
      "cell_type": "code",
      "execution_count": 112,
      "metadata": {
        "id": "FUY1MY0k8mMB"
      },
      "outputs": [],
      "source": [
        "# import modules\n",
        "import numpy as np\n",
        "import matplotlib.pyplot as plt\n",
        "\n",
        "# Define parameters for the model 1\n",
        "a = -0.003\n",
        "Vl = 1e-3 # Loading Rate [m/s]\n",
        "Vini = 1e-6 #Initial Velocity [m/s]\n",
        "NormalStress = 2e6 # 2Mpa\n",
        "V0 = 1e-9 # Reference velocity [m/s]\n",
        "Friction0 = 0.6 # reference friction\n",
        "FrictionI = Friction0 + a * np.log(Vini/V0) # Initial friction\n",
        "Mass = 1000 # per unit area [kg/m^2] (10kg on 0.1 m by 0.1 m]\n",
        "K = 32 # [MPa/m] Set stiffness 0.8 of critical stiffness\n",
        "Xl = FrictionI * NormalStress / K # initial load point"
      ]
    },
    {
      "cell_type": "code",
      "source": [
        "FrictionI"
      ],
      "metadata": {
        "colab": {
          "base_uri": "https://localhost:8080/"
        },
        "id": "6CWjLhe-AP-M",
        "outputId": "50340a0f-0fc0-4ae4-b415-a1f034319f84"
      },
      "execution_count": 113,
      "outputs": [
        {
          "output_type": "execute_result",
          "data": {
            "text/plain": [
              "0.6207232658369464"
            ]
          },
          "metadata": {},
          "execution_count": 113
        }
      ]
    },
    {
      "cell_type": "code",
      "source": [
        "# Time Step Control\n",
        "Dt = 1e-5 # Time step [second]\n",
        "TotalTime = 2 #Total time [second]\n",
        "TotalStep = round(TotalTime / Dt) # Total steps"
      ],
      "metadata": {
        "id": "LQWDVWQwAgJH"
      },
      "execution_count": 114,
      "outputs": []
    },
    {
      "cell_type": "code",
      "source": [
        "TotalStep"
      ],
      "metadata": {
        "colab": {
          "base_uri": "https://localhost:8080/"
        },
        "id": "wb-e5XlrERGQ",
        "outputId": "9881dac5-a10e-4f10-d82c-042b9120b114"
      },
      "execution_count": 115,
      "outputs": [
        {
          "output_type": "execute_result",
          "data": {
            "text/plain": [
              "200000"
            ]
          },
          "metadata": {},
          "execution_count": 115
        }
      ]
    },
    {
      "cell_type": "code",
      "source": [
        "# Convergence control\n",
        "V_eps = 1e-7  # Convergence criterion in NR"
      ],
      "metadata": {
        "id": "3TVbkdA7AvmO"
      },
      "execution_count": 116,
      "outputs": []
    },
    {
      "cell_type": "code",
      "source": [
        "# Simulation begins\n",
        "XlOld = Xl\n",
        "Omega = np.sqrt(K/Mass)\n",
        "Step = 0\n",
        "disp = np.zeros((TotalStep, 1))\n",
        "vel = np.zeros((TotalStep, 1))\n",
        "vel[0] = Vini\n",
        "mu = np.zeros((TotalStep, 1))\n",
        "mu[0] = FrictionI\n",
        "Time = np.zeros((TotalStep, 1))"
      ],
      "metadata": {
        "id": "OxA_kmbOA1xD"
      },
      "execution_count": 117,
      "outputs": []
    },
    {
      "cell_type": "code",
      "source": [
        "disp[0:5]"
      ],
      "metadata": {
        "colab": {
          "base_uri": "https://localhost:8080/"
        },
        "id": "euwtARdfEjVy",
        "outputId": "ca45e8a3-de9c-498c-c464-f52f9658d97f"
      },
      "execution_count": 106,
      "outputs": [
        {
          "output_type": "execute_result",
          "data": {
            "text/plain": [
              "array([[0.],\n",
              "       [0.],\n",
              "       [0.],\n",
              "       [0.],\n",
              "       [0.]])"
            ]
          },
          "metadata": {},
          "execution_count": 106
        }
      ]
    },
    {
      "cell_type": "code",
      "source": [
        "#TotalStep - 1\n",
        "for i in range(TotalStep - 1):\n",
        "\n",
        "  F = XlOld - (mu[i] * NormalStress) / K\n",
        "  disp[i + 1] = (disp[i] - F) * np.cos(Omega * Dt) + (vel[i] / Omega) * np.sin(Omega * Dt) + F\n",
        "  vel[i + 1] = (disp[i + 1] - disp[i]) / Dt\n",
        "  mu[i + 1] = mu[0] + a * np.log(vel[i + 1] / V0)\n",
        "  Time[i + 1] = Time[i] + Dt\n",
        "\n",
        "  dV = vel[i + 1] - vel[i]\n",
        "\n",
        "  if i % 10000 == 0:\n",
        "    print(i)\n",
        "  #if dV < V_eps:\n",
        "    #break\n",
        "\n"
      ],
      "metadata": {
        "colab": {
          "base_uri": "https://localhost:8080/"
        },
        "id": "LT1_HAdcEkXj",
        "outputId": "73b73b2e-bc12-4b27-e24b-a25479b48b4a"
      },
      "execution_count": 107,
      "outputs": [
        {
          "output_type": "stream",
          "name": "stdout",
          "text": [
            "0\n"
          ]
        },
        {
          "output_type": "stream",
          "name": "stderr",
          "text": [
            "/usr/local/lib/python3.7/dist-packages/ipykernel_launcher.py:7: RuntimeWarning: invalid value encountered in log\n",
            "  import sys\n"
          ]
        },
        {
          "output_type": "stream",
          "name": "stdout",
          "text": [
            "10000\n",
            "20000\n",
            "30000\n",
            "40000\n",
            "50000\n",
            "60000\n",
            "70000\n",
            "80000\n",
            "90000\n",
            "100000\n",
            "110000\n",
            "120000\n",
            "130000\n",
            "140000\n",
            "150000\n",
            "160000\n",
            "170000\n",
            "180000\n",
            "190000\n"
          ]
        }
      ]
    },
    {
      "cell_type": "code",
      "source": [
        "disp.shape"
      ],
      "metadata": {
        "colab": {
          "base_uri": "https://localhost:8080/"
        },
        "id": "RbSEe8oYIcPZ",
        "outputId": "6eee46d8-81d7-475f-b383-edd93c9b4070"
      },
      "execution_count": 108,
      "outputs": [
        {
          "output_type": "execute_result",
          "data": {
            "text/plain": [
              "(200000, 1)"
            ]
          },
          "metadata": {},
          "execution_count": 108
        }
      ]
    },
    {
      "cell_type": "code",
      "source": [
        "plt.figure()\n",
        "plt.plot(Time, mu)"
      ],
      "metadata": {
        "colab": {
          "base_uri": "https://localhost:8080/",
          "height": 295
        },
        "id": "A_QGfzEfFA8R",
        "outputId": "819d2d52-dae1-4826-db50-c366bd689970"
      },
      "execution_count": 111,
      "outputs": [
        {
          "output_type": "execute_result",
          "data": {
            "text/plain": [
              "[<matplotlib.lines.Line2D at 0x7ff1750f1490>]"
            ]
          },
          "metadata": {},
          "execution_count": 111
        },
        {
          "output_type": "display_data",
          "data": {
            "text/plain": [
              "<Figure size 432x288 with 1 Axes>"
            ],
            "image/png": "[encoded data removed]"
          },
          "metadata": {
            "needs_background": "light"
          }
        }
      ]
    },
    {
      "cell_type": "code",
      "source": [
        "dV"
      ],
      "metadata": {
        "colab": {
          "base_uri": "https://localhost:8080/"
        },
        "id": "Y5pHCZPYI4F9",
        "outputId": "9c6d9454-e2e2-4be6-d476-cce8095979d0"
      },
      "execution_count": 99,
      "outputs": [
        {
          "output_type": "execute_result",
          "data": {
            "text/plain": [
              "array([0.00074824])"
            ]
          },
          "metadata": {},
          "execution_count": 99
        }
      ]
    },
    {
      "cell_type": "markdown",
      "source": [
        "## Scenario 2\n",
        "_Force balance_\n",
        "$$\\delta (t)=(\\delta_{ini}-F)cos(wt)+\\frac{V_{ini}}{w}sin(wt)+F$$\n",
        "$$V=\\frac{d\\delta}{dt}$$\n",
        "_State dependence of friction_\n",
        "$$\\mu = \\mu_0+blog\\frac{\\theta}{\\theta_0}$$\n",
        "_State evolution (aging law)_\n",
        "$$\\frac{d\\theta}{dt}=1-\\frac{\\theta}{\\theta_0}$$\n",
        "\\\n",
        "where, $\\theta_0=\\frac{D_c}{V_0}$, $F=\\delta_{lp}-\\frac{\\mu\\sigma}{K}$ and $w=\\sqrt{\\frac{K}{M}}$"
      ],
      "metadata": {
        "id": "_xzGKGZRKB4m"
      }
    },
    {
      "cell_type": "code",
      "source": [
        "# import modules\n",
        "import numpy as np\n",
        "import matplotlib.pyplot as plt\n",
        "\n",
        "# Define parameters for the model 1\n",
        "b = 0.006\n",
        "Vl = 1e-3 # Loading Rate [m/s]\n",
        "Vini = 1e-6 #Initial Velocity [m/s]\n",
        "NormalStress = 2e6 # 2Mpa\n",
        "V0 = 1e-9 # Reference velocity [m/s]\n",
        "Dc = 1e-6 # [m]\n",
        "ThetaI = Dc / Vini # Initial State - set Start from steady state\n",
        "Friction0 = 0.6 # reference friction\n",
        "FrictionI = Friction0 + a * np.log(Vini/V0) # Initial friction\n",
        "Mass = 1000 # per unit area [kg/m^2] (10kg on 0.1 m by 0.1 m]\n",
        "K = 32 # [MPa/m] Set stiffness 0.8 of critical stiffness\n",
        "Xl = FrictionI * NormalStress / K # initial load point"
      ],
      "metadata": {
        "id": "0zQdLknqK7Pl"
      },
      "execution_count": 119,
      "outputs": []
    },
    {
      "cell_type": "code",
      "source": [
        ""
      ],
      "metadata": {
        "id": "ouWqzlbWMLQz"
      },
      "execution_count": null,
      "outputs": []
    },
    {
      "cell_type": "markdown",
      "source": [
        "## Scenario 3\n",
        "_Force balance_\n",
        "$$\\delta (t)=(\\delta_{ini}-F)cos(wt)+\\frac{V_{ini}}{w}sin(wt)+F$$\n",
        "$$V=\\frac{d\\delta}{dt}$$\n",
        "_State dependence of friction_\n",
        "$$\\mu = \\mu_0+alog\\frac{V}{V_0}+blog\\frac{\\theta}{\\theta_0}$$\n",
        "_State evolution (aging law)_\n",
        "$$\\frac{d\\theta}{dt}=1-\\frac{\\theta}{\\theta_0}$$\n",
        "\\\n",
        "where, $\\theta_0=\\frac{D_c}{V_0}$, $F=\\delta_{lp}-\\frac{\\mu\\sigma}{K}$ and $w=\\sqrt{\\frac{K}{M}}$"
      ],
      "metadata": {
        "id": "miZA9jL3MZXh"
      }
    },
    {
      "cell_type": "code",
      "source": [
        ""
      ],
      "metadata": {
        "id": "IkmUawkhMkT7"
      },
      "execution_count": null,
      "outputs": []
    },
    {
      "cell_type": "markdown",
      "source": [
        "## <font color = 'red'>Ex 2\n",
        "$$\n",
        "\\frac{d\\theta}{dt} = -v[\\theta+(1+\\epsilon) log(v)]\\\n",
        "$$\n",
        "$$\n",
        "\\frac{du}{dt}=v-1\n",
        "$$\n",
        "$$\n",
        "\\frac{dv}{dt}=-r^2[u+\\frac{1}{e}(\\theta+log(v))]\n",
        "$$\n",
        "\n",
        "- *Find the solution for r=0.8, e=0.8, $\\epsilon$=0.2\n",
        "- Find the solution for $\\epsilon$=1.9\n",
        "- Find the solution for r=1.0, e=0.6, $\\epsilon$=12\n",
        "\n",
        "*Find theta (state), u (slip) and v (slip rate) for 100 secs\\\n",
        "*Plot the time series in a single plot (can use subplot)\n",
        "\n",
        "__Advanced__\n",
        "- Comment on the nature of the solution for the different sets of parameters."
      ],
      "metadata": {
        "id": "H6MfMx5kMvF1"
      }
    },
    {
      "cell_type": "code",
      "source": [
        ""
      ],
      "metadata": {
        "id": "VA7TA2zSMxpq"
      },
      "execution_count": null,
      "outputs": []
    }
  ]
}